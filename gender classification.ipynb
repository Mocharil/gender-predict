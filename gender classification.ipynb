{
 "cells": [
  {
   "cell_type": "markdown",
   "metadata": {},
   "source": [
    "# import"
   ]
  },
  {
   "cell_type": "code",
   "execution_count": 1,
   "metadata": {
    "ExecuteTime": {
     "end_time": "2019-10-22T11:43:11.033272Z",
     "start_time": "2019-10-22T11:43:10.076029Z"
    }
   },
   "outputs": [],
   "source": [
    "import pandas as pd\n",
    "import os\n",
    "from tqdm import tqdm\n",
    "from sklearn.preprocessing import LabelEncoder\n",
    "from sklearn.model_selection import train_test_split\n",
    "from sklearn.feature_extraction.text import CountVectorizer, TfidfTransformer\n",
    "from sklearn.pipeline import Pipeline\n",
    "from sklearn.metrics import accuracy_score, classification_report\n",
    "from sklearn.linear_model import LogisticRegression\n",
    "from sklearn.ensemble import RandomForestClassifier\n",
    "from sklearn.svm import LinearSVC\n",
    "from sklearn.neighbors import KNeighborsClassifier\n",
    "from sklearn.model_selection import GridSearchCV"
   ]
  },
  {
   "cell_type": "markdown",
   "metadata": {},
   "source": [
    "# preprocessing data"
   ]
  },
  {
   "cell_type": "code",
   "execution_count": 2,
   "metadata": {
    "ExecuteTime": {
     "end_time": "2019-10-22T11:43:13.176546Z",
     "start_time": "2019-10-22T11:43:11.035433Z"
    }
   },
   "outputs": [
    {
     "name": "stderr",
     "output_type": "stream",
     "text": [
      "/root/anaconda3/lib/python3.7/site-packages/ipykernel_launcher.py:5: FutureWarning: `Series.plot()` should not be called with positional arguments, only keyword arguments. The order of positional arguments will change in the future. Use `Series.plot(kind='bar')` instead of `Series.plot('bar',)`.\n",
      "  \"\"\"\n"
     ]
    },
    {
     "data": {
      "text/plain": [
       "<matplotlib.axes._subplots.AxesSubplot at 0x7f99072c1358>"
      ]
     },
     "execution_count": 2,
     "metadata": {},
     "output_type": "execute_result"
    },
    {
     "data": {
      "image/png": "[encoded data removed]",
      "text/plain": [
       "<Figure size 432x288 with 1 Axes>"
      ]
     },
     "metadata": {
      "needs_background": "light"
     },
     "output_type": "display_data"
    }
   ],
   "source": [
    "import matplotlib\n",
    "%matplotlib inline\n",
    "#The data has been cleared\n",
    "train_data=pd.read_csv('./gender/data_train.csv')\n",
    "train_data.groupby('gender').size().plot('bar')"
   ]
  },
  {
   "cell_type": "code",
   "execution_count": 3,
   "metadata": {
    "ExecuteTime": {
     "end_time": "2019-10-22T11:43:13.280206Z",
     "start_time": "2019-10-22T11:43:13.179516Z"
    }
   },
   "outputs": [
    {
     "data": {
      "text/plain": [
       "LabelEncoder()"
      ]
     },
     "execution_count": 3,
     "metadata": {},
     "output_type": "execute_result"
    }
   ],
   "source": [
    "le = LabelEncoder()\n",
    "le.fit(train_data.gender)"
   ]
  },
  {
   "cell_type": "markdown",
   "metadata": {},
   "source": [
    "# train data"
   ]
  },
  {
   "cell_type": "code",
   "execution_count": null,
   "metadata": {
    "ExecuteTime": {
     "start_time": "2019-10-22T11:44:40.431Z"
    }
   },
   "outputs": [],
   "source": [
    "X=train_data.name\n",
    "y=le.transform(train_data.gender)\n",
    "X_train,X_test, y_train, y_test = train_test_split(X,y, test_size=0.2, random_state=1)"
   ]
  },
  {
   "cell_type": "code",
   "execution_count": null,
   "metadata": {
    "ExecuteTime": {
     "start_time": "2019-10-22T11:44:40.433Z"
    }
   },
   "outputs": [],
   "source": [
    "cv = CountVectorizer()\n",
    "tf = TfidfTransformer()\n",
    "\n",
    "list_model=[LogisticRegression(),LinearSVC()]\n",
    "result=[]\n",
    "final_model={}\n",
    "for m in list_model:\n",
    "    model = Pipeline([('cv',cv),('tf',tf),('clf',m)])\n",
    "    model.fit(X_train,y_train)\n",
    "    y_result=model.predict(X_test)\n",
    "    acc=accuracy_score(y_result, y_test)\n",
    "    result.append({'model':str(m.__class__.__name__),'accuracy':acc})\n",
    "    final_model.update({str(m.__class__.__name__):model})\n",
    "    print('=============')\n",
    "    print(m.__class__.__name__)\n",
    "    print(acc)\n",
    "    print(classification_report(y_test,y_result))"
   ]
  },
  {
   "cell_type": "code",
   "execution_count": null,
   "metadata": {
    "ExecuteTime": {
     "start_time": "2019-10-22T11:44:40.436Z"
    },
    "scrolled": true
   },
   "outputs": [],
   "source": [
    "import altair as alt\n",
    "alt.renderers.enable('notebook')\n",
    "alt.Chart(pd.DataFrame(result)).mark_bar().encode(\n",
    "x='model',\n",
    "y='accuracy')"
   ]
  },
  {
   "cell_type": "code",
   "execution_count": null,
   "metadata": {
    "ExecuteTime": {
     "start_time": "2019-10-22T11:44:40.439Z"
    }
   },
   "outputs": [],
   "source": [
    "from sklearn.externals import joblib \n",
    "\n",
    "model = final_model['LinearSVC']\n",
    "\n",
    "# Save the model as a pickle in a file \n",
    "joblib.dump(model, 'model_gender.pkl') \n",
    "  \n",
    "# Load the model from the file \n",
    "load_model = joblib.load('model_gender.pkl')  \n",
    "  \n",
    "# Use the loaded model to make predictio\n",
    "load_model.predict(['aril','indra','zahra','fahadh','roihatul','yuanisa']) "
   ]
  },
  {
   "cell_type": "code",
   "execution_count": null,
   "metadata": {},
   "outputs": [],
   "source": []
  }
 ],
 "metadata": {
  "kernelspec": {
   "display_name": "Python 3",
   "language": "python",
   "name": "python3"
  },
  "language_info": {
   "codemirror_mode": {
    "name": "ipython",
    "version": 3
   },
   "file_extension": ".py",
   "mimetype": "text/x-python",
   "name": "python",
   "nbconvert_exporter": "python",
   "pygments_lexer": "ipython3",
   "version": "3.7.3"
  }
 },
 "nbformat": 4,
 "nbformat_minor": 2
}
